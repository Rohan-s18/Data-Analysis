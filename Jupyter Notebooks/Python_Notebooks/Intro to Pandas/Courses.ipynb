{
 "cells": [
  {
   "cell_type": "code",
   "execution_count": 2,
   "id": "4c60f735",
   "metadata": {},
   "outputs": [],
   "source": [
    "import pandas as pd"
   ]
  },
  {
   "cell_type": "code",
   "execution_count": 4,
   "id": "c0ea3692",
   "metadata": {},
   "outputs": [
    {
     "data": {
      "text/html": [
       "<div>\n",
       "<style scoped>\n",
       "    .dataframe tbody tr th:only-of-type {\n",
       "        vertical-align: middle;\n",
       "    }\n",
       "\n",
       "    .dataframe tbody tr th {\n",
       "        vertical-align: top;\n",
       "    }\n",
       "\n",
       "    .dataframe thead th {\n",
       "        text-align: right;\n",
       "    }\n",
       "</style>\n",
       "<table border=\"1\" class=\"dataframe\">\n",
       "  <thead>\n",
       "    <tr style=\"text-align: right;\">\n",
       "      <th></th>\n",
       "      <th>Course Name</th>\n",
       "      <th>Course Code</th>\n",
       "      <th>Credits</th>\n",
       "      <th>Department</th>\n",
       "    </tr>\n",
       "  </thead>\n",
       "  <tbody>\n",
       "    <tr>\n",
       "      <th>0</th>\n",
       "      <td>Introduction to Java</td>\n",
       "      <td>CSDS 132</td>\n",
       "      <td>3</td>\n",
       "      <td>Department of Computer Science and Data Science</td>\n",
       "    </tr>\n",
       "    <tr>\n",
       "      <th>1</th>\n",
       "      <td>Data Structures</td>\n",
       "      <td>CSDS 233</td>\n",
       "      <td>4</td>\n",
       "      <td>Department of Computer Science and Data Science</td>\n",
       "    </tr>\n",
       "    <tr>\n",
       "      <th>2</th>\n",
       "      <td>Logic Design</td>\n",
       "      <td>CSDS 281</td>\n",
       "      <td>4</td>\n",
       "      <td>Department of Computer Science and Data Science</td>\n",
       "    </tr>\n",
       "    <tr>\n",
       "      <th>3</th>\n",
       "      <td>Software Craftsmanship</td>\n",
       "      <td>CSDS 293</td>\n",
       "      <td>4</td>\n",
       "      <td>Department of Computer Science and Data Science</td>\n",
       "    </tr>\n",
       "    <tr>\n",
       "      <th>4</th>\n",
       "      <td>Discrete Mathematics</td>\n",
       "      <td>CSDS 302</td>\n",
       "      <td>3</td>\n",
       "      <td>Department of Computer Science and Data Science</td>\n",
       "    </tr>\n",
       "  </tbody>\n",
       "</table>\n",
       "</div>"
      ],
      "text/plain": [
       "              Course Name Course Code  Credits  \\\n",
       "0    Introduction to Java    CSDS 132        3   \n",
       "1         Data Structures    CSDS 233        4   \n",
       "2            Logic Design    CSDS 281        4   \n",
       "3  Software Craftsmanship    CSDS 293        4   \n",
       "4    Discrete Mathematics    CSDS 302        3   \n",
       "\n",
       "                                        Department  \n",
       "0  Department of Computer Science and Data Science  \n",
       "1  Department of Computer Science and Data Science  \n",
       "2  Department of Computer Science and Data Science  \n",
       "3  Department of Computer Science and Data Science  \n",
       "4  Department of Computer Science and Data Science  "
      ]
     },
     "execution_count": 4,
     "metadata": {},
     "output_type": "execute_result"
    }
   ],
   "source": [
    "df = pd.read_csv(\"/Users/rohansingh/Jupyter Notebooks/Data/Courses.csv\")\n",
    "df.head()"
   ]
  },
  {
   "cell_type": "code",
   "execution_count": null,
   "id": "74b383b8",
   "metadata": {},
   "outputs": [],
   "source": []
  }
 ],
 "metadata": {
  "kernelspec": {
   "display_name": "Python 3 (ipykernel)",
   "language": "python",
   "name": "python3"
  },
  "language_info": {
   "codemirror_mode": {
    "name": "ipython",
    "version": 3
   },
   "file_extension": ".py",
   "mimetype": "text/x-python",
   "name": "python",
   "nbconvert_exporter": "python",
   "pygments_lexer": "ipython3",
   "version": "3.9.7"
  }
 },
 "nbformat": 4,
 "nbformat_minor": 5
}
