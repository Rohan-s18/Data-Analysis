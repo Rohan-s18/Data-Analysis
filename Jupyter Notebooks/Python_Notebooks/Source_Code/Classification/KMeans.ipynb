{
 "cells": [
  {
   "cell_type": "code",
   "execution_count": 1,
   "id": "69f6efa4",
   "metadata": {},
   "outputs": [],
   "source": [
    "# Source code for K-means clustering\n",
    "\n",
    "#Getting imports\n",
    "\n",
    "import numpy as np\n",
    "import pandas as pd\n",
    "import matplotlib.pyplot as mtp\n",
    "\n",
    "#this is used to get the iris data\n",
    "df = pd.read_csv(\"/Users/rohansingh/Documents/CSDS 391/AI_Code/Machine Learning/Classification/irisdata.csv\")"
   ]
  },
  {
   "cell_type": "code",
   "execution_count": 3,
   "id": "59a95e90",
   "metadata": {},
   "outputs": [],
   "source": [
    "#Converting df to a 4 numpy arrays:\n",
    "s_len = df[\"sepal_length\"]\n",
    "s_wid = df[\"sepal_width\"]\n",
    "p_len = df[\"petal_length\"]\n",
    "p_wid = df[\"petal_width\"]\n",
    "\n",
    "s_len = s_len.to_numpy()\n",
    "s_wid = s_wid.to_numpy()\n",
    "p_len = p_len.to_numpy()\n",
    "p_wid = p_wid.to_numpy()"
   ]
  },
  {
   "cell_type": "code",
   "execution_count": 5,
   "id": "50586fa8",
   "metadata": {},
   "outputs": [],
   "source": [
    "# Helper function to get the euclidean distance \n",
    "def euc_dist(i, j):\n",
    "    dist_sum = 0\n",
    "    dist_sum += np.power((s_len[i]-s_len[j]),2)\n",
    "    dist_sum += np.power((s_wid[i]-s_wid[j]),2)\n",
    "    dist_sum += np.power((p_len[i]-p_len[j]),2)\n",
    "    dist_sum += np.power((p_wid[i]-p_wid[j]),2)\n",
    "    return np.sqrt(dist_sum)\n",
    "    "
   ]
  },
  {
   "cell_type": "code",
   "execution_count": 6,
   "id": "889a4c2c",
   "metadata": {},
   "outputs": [],
   "source": [
    "#Helper function for the objective function\n",
    "def obj_function_for_each_point(i,centroids):\n",
    "    cluster = 0\n",
    "    dist = 10000000\n",
    "    for i in range (0,len(centroids),1):\n",
    "        print(\"Hello World\")\n",
    "        \n",
    "        \n"
   ]
  },
  {
   "cell_type": "code",
   "execution_count": 15,
   "id": "4009126a",
   "metadata": {},
   "outputs": [],
   "source": [
    "clusters=len(np.unique(y))"
   ]
  },
  {
   "cell_type": "code",
   "execution_count": 16,
   "id": "857e1f27",
   "metadata": {},
   "outputs": [],
   "source": []
  },
  {
   "cell_type": "code",
   "execution_count": 17,
   "id": "28a86e62",
   "metadata": {},
   "outputs": [],
   "source": [
    "from collections import defaultdict\n",
    "\n",
    "\n",
    "class KMeans:\n",
    "    \n",
    "    def __init__(self,data,k,max_ite):\n",
    "        self.data=data\n",
    "        self.k=k\n",
    "        self.max_ite=max_ite\n",
    "        \n",
    "    def predict(self):\n",
    "\n",
    "        centroids = defaultdict(int)\n",
    "        \n",
    "        K=self.k\n",
    "        max_iter=self.max_ite\n",
    "        \n",
    "        for i in range(K):\n",
    "            centroids[i] = self.data[i]\n",
    "\n",
    "\n",
    "\n",
    "        r=0\n",
    "\n",
    "\n",
    "        for i in range(max_iter):\n",
    "            r=r+1\n",
    "            classes=defaultdict(list)\n",
    "            \n",
    "            for key in range(K):\n",
    "                classes[key]=[]\n",
    "            for datapoint in self.data:\n",
    "                distance=[]\n",
    "                for j in range(K):\n",
    "\n",
    "                    dis=euclidean_dis(datapoint,centroids[j])\n",
    "\n",
    "                    distance.append(dis)\n",
    "                mindis=min(distance)\n",
    "\n",
    "                index=distance.index(mindis)\n",
    "                classes[index].append(datapoint)\n",
    "                old_centroid=dict(centroids)\n",
    "\n",
    "            for t in range(K):\n",
    "                class_=classes[t]\n",
    "\n",
    "\n",
    "                new_centroid=np.mean(class_,axis=0)\n",
    "                centroids[t]=new_centroid\n",
    "            flg=1\n",
    "            for t in range(K):\n",
    "\n",
    "                a=centroids[t]\n",
    "                b=old_centroid[t]\n",
    "                if np.sum((a - b)/b * 100) > 0.001:\n",
    "                    flg = 0\n",
    "\n",
    "\n",
    "\n",
    "            if flg==1:\n",
    "                break\n",
    "\n",
    "\n",
    "        return classes,centroids"
   ]
  },
  {
   "cell_type": "code",
   "execution_count": 18,
   "id": "713cf108",
   "metadata": {},
   "outputs": [
    {
     "name": "stdout",
     "output_type": "stream",
     "text": [
      "39\n",
      "61\n",
      "50\n",
      "defaultdict(<class 'int'>, {0: array([6.85384615, 3.07692308, 5.71538462, 2.05384615]), 1: array([5.88360656, 2.74098361, 4.38852459, 1.43442623]), 2: array([5.006, 3.428, 1.462, 0.246])})\n"
     ]
    }
   ],
   "source": [
    "kmeans=KMeans(iris.data[:,:4],clusters,10000)\n",
    "\n",
    "classes,centroids=kmeans.predict()\n",
    "\n",
    "\n",
    "for i in range(0,3):\n",
    "    classes[i]=np.array(classes[i]).tolist()\n",
    "    \n",
    "for i in range(0,3):\n",
    "    print(len(classes[i]))\n",
    "print(centroids)"
   ]
  },
  {
   "cell_type": "code",
   "execution_count": null,
   "id": "e45a5d08",
   "metadata": {},
   "outputs": [],
   "source": []
  }
 ],
 "metadata": {
  "kernelspec": {
   "display_name": "Python 3 (ipykernel)",
   "language": "python",
   "name": "python3"
  },
  "language_info": {
   "codemirror_mode": {
    "name": "ipython",
    "version": 3
   },
   "file_extension": ".py",
   "mimetype": "text/x-python",
   "name": "python",
   "nbconvert_exporter": "python",
   "pygments_lexer": "ipython3",
   "version": "3.9.7"
  }
 },
 "nbformat": 4,
 "nbformat_minor": 5
}
