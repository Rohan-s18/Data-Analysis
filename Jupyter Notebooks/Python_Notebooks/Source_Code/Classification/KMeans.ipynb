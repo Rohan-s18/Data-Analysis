{
 "cells": [
  {
   "cell_type": "code",
   "execution_count": 1,
   "id": "69f6efa4",
   "metadata": {},
   "outputs": [],
   "source": [
    "# Source code for K-means clustering\n",
    "\n",
    "#Getting imports\n",
    "\n",
    "import numpy as np\n",
    "import pandas as pd\n",
    "import matplotlib.pyplot as mtp\n",
    "\n",
    "#this is used to get the iris data\n",
    "df = pd.read_csv(\"/Users/rohansingh/Documents/CSDS 391/AI_Code/Machine Learning/Classification/irisdata.csv\")"
   ]
  },
  {
   "cell_type": "code",
   "execution_count": 2,
   "id": "59a95e90",
   "metadata": {},
   "outputs": [],
   "source": [
    "#Converting df to a 4 numpy arrays:\n",
    "s_len = df[\"sepal_length\"]\n",
    "s_wid = df[\"sepal_width\"]\n",
    "p_len = df[\"petal_length\"]\n",
    "p_wid = df[\"petal_width\"]\n",
    "\n",
    "s_len = s_len.to_numpy()\n",
    "s_wid = s_wid.to_numpy()\n",
    "p_len = p_len.to_numpy()\n",
    "p_wid = p_wid.to_numpy()"
   ]
  },
  {
   "cell_type": "code",
   "execution_count": 3,
   "id": "50586fa8",
   "metadata": {},
   "outputs": [],
   "source": [
    "# Helper function to get the euclidean distance \n",
    "def euc_dist(i, j):\n",
    "    dist_sum = 0\n",
    "    dist_sum += np.power((s_len[i]-s_len[j]),2)\n",
    "    dist_sum += np.power((s_wid[i]-s_wid[j]),2)\n",
    "    dist_sum += np.power((p_len[i]-p_len[j]),2)\n",
    "    dist_sum += np.power((p_wid[i]-p_wid[j]),2)\n",
    "    return np.sqrt(dist_sum)\n",
    "    "
   ]
  },
  {
   "cell_type": "code",
   "execution_count": 4,
   "id": "889a4c2c",
   "metadata": {},
   "outputs": [],
   "source": [
    "#Helper function for the objective function\n",
    "def obj_funct_classifier(i,centroids,cluster):\n",
    "    cl = 0\n",
    "    dist = 10000000\n",
    "    for j in range (0,len(centroids),1):\n",
    "        new_dist = euc_dist(i,centroids[j])\n",
    "        if(new_dist < dist):\n",
    "            dist = new_dist\n",
    "            cl = j\n",
    "    cluster[i] = cl\n",
    "    return dist"
   ]
  },
  {
   "cell_type": "code",
   "execution_count": 5,
   "id": "4009126a",
   "metadata": {},
   "outputs": [],
   "source": [
    "centroids = np.array([10,78,130])"
   ]
  },
  {
   "cell_type": "code",
   "execution_count": 6,
   "id": "857e1f27",
   "metadata": {},
   "outputs": [
    {
     "data": {
      "text/html": [
       "<div>\n",
       "<style scoped>\n",
       "    .dataframe tbody tr th:only-of-type {\n",
       "        vertical-align: middle;\n",
       "    }\n",
       "\n",
       "    .dataframe tbody tr th {\n",
       "        vertical-align: top;\n",
       "    }\n",
       "\n",
       "    .dataframe thead th {\n",
       "        text-align: right;\n",
       "    }\n",
       "</style>\n",
       "<table border=\"1\" class=\"dataframe\">\n",
       "  <thead>\n",
       "    <tr style=\"text-align: right;\">\n",
       "      <th></th>\n",
       "      <th>sepal_length</th>\n",
       "      <th>sepal_width</th>\n",
       "      <th>petal_length</th>\n",
       "      <th>petal_width</th>\n",
       "      <th>species</th>\n",
       "    </tr>\n",
       "  </thead>\n",
       "  <tbody>\n",
       "    <tr>\n",
       "      <th>0</th>\n",
       "      <td>5.1</td>\n",
       "      <td>3.5</td>\n",
       "      <td>1.4</td>\n",
       "      <td>0.2</td>\n",
       "      <td>0</td>\n",
       "    </tr>\n",
       "    <tr>\n",
       "      <th>1</th>\n",
       "      <td>4.9</td>\n",
       "      <td>3.0</td>\n",
       "      <td>1.4</td>\n",
       "      <td>0.2</td>\n",
       "      <td>0</td>\n",
       "    </tr>\n",
       "    <tr>\n",
       "      <th>2</th>\n",
       "      <td>4.7</td>\n",
       "      <td>3.2</td>\n",
       "      <td>1.3</td>\n",
       "      <td>0.2</td>\n",
       "      <td>0</td>\n",
       "    </tr>\n",
       "    <tr>\n",
       "      <th>3</th>\n",
       "      <td>4.6</td>\n",
       "      <td>3.1</td>\n",
       "      <td>1.5</td>\n",
       "      <td>0.2</td>\n",
       "      <td>0</td>\n",
       "    </tr>\n",
       "    <tr>\n",
       "      <th>4</th>\n",
       "      <td>5.0</td>\n",
       "      <td>3.6</td>\n",
       "      <td>1.4</td>\n",
       "      <td>0.2</td>\n",
       "      <td>0</td>\n",
       "    </tr>\n",
       "    <tr>\n",
       "      <th>...</th>\n",
       "      <td>...</td>\n",
       "      <td>...</td>\n",
       "      <td>...</td>\n",
       "      <td>...</td>\n",
       "      <td>...</td>\n",
       "    </tr>\n",
       "    <tr>\n",
       "      <th>145</th>\n",
       "      <td>6.7</td>\n",
       "      <td>3.0</td>\n",
       "      <td>5.2</td>\n",
       "      <td>2.3</td>\n",
       "      <td>2</td>\n",
       "    </tr>\n",
       "    <tr>\n",
       "      <th>146</th>\n",
       "      <td>6.3</td>\n",
       "      <td>2.5</td>\n",
       "      <td>5.0</td>\n",
       "      <td>1.9</td>\n",
       "      <td>2</td>\n",
       "    </tr>\n",
       "    <tr>\n",
       "      <th>147</th>\n",
       "      <td>6.5</td>\n",
       "      <td>3.0</td>\n",
       "      <td>5.2</td>\n",
       "      <td>2.0</td>\n",
       "      <td>2</td>\n",
       "    </tr>\n",
       "    <tr>\n",
       "      <th>148</th>\n",
       "      <td>6.2</td>\n",
       "      <td>3.4</td>\n",
       "      <td>5.4</td>\n",
       "      <td>2.3</td>\n",
       "      <td>2</td>\n",
       "    </tr>\n",
       "    <tr>\n",
       "      <th>149</th>\n",
       "      <td>5.9</td>\n",
       "      <td>3.0</td>\n",
       "      <td>5.1</td>\n",
       "      <td>1.8</td>\n",
       "      <td>2</td>\n",
       "    </tr>\n",
       "  </tbody>\n",
       "</table>\n",
       "<p>150 rows × 5 columns</p>\n",
       "</div>"
      ],
      "text/plain": [
       "     sepal_length  sepal_width  petal_length  petal_width  species\n",
       "0             5.1          3.5           1.4          0.2        0\n",
       "1             4.9          3.0           1.4          0.2        0\n",
       "2             4.7          3.2           1.3          0.2        0\n",
       "3             4.6          3.1           1.5          0.2        0\n",
       "4             5.0          3.6           1.4          0.2        0\n",
       "..            ...          ...           ...          ...      ...\n",
       "145           6.7          3.0           5.2          2.3        2\n",
       "146           6.3          2.5           5.0          1.9        2\n",
       "147           6.5          3.0           5.2          2.0        2\n",
       "148           6.2          3.4           5.4          2.3        2\n",
       "149           5.9          3.0           5.1          1.8        2\n",
       "\n",
       "[150 rows x 5 columns]"
      ]
     },
     "execution_count": 6,
     "metadata": {},
     "output_type": "execute_result"
    }
   ],
   "source": [
    "species_code = [\"setosa\",\"versicolor\",\"virginica\"]\n",
    "\n",
    "species = df[\"species\"]\n",
    "species = species.to_list()\n",
    "\n",
    "ls = []\n",
    "for i in range (0,len(species),1):\n",
    "    for j in range(0, len(species_code),1):\n",
    "        if(species[i] == species_code[j]):\n",
    "            ls.append(j)\n",
    "\n",
    "df[\"species\"] = ls\n",
    "df"
   ]
  },
  {
   "cell_type": "code",
   "execution_count": 7,
   "id": "37afbdd2",
   "metadata": {},
   "outputs": [],
   "source": [
    "clusters = []\n",
    "for i in range(0,150,1):\n",
    "    clusters.append(\"-\")"
   ]
  },
  {
   "cell_type": "code",
   "execution_count": 8,
   "id": "41ba1eea",
   "metadata": {},
   "outputs": [
    {
     "data": {
      "text/plain": [
       "0"
      ]
     },
     "execution_count": 8,
     "metadata": {},
     "output_type": "execute_result"
    }
   ],
   "source": [
    "for i in range (0,150,1):\n",
    "    obj_funct_classifier(i,centroids,clusters)\n",
    "\n",
    "species = df[\"species\"]\n",
    "species = species.to_list()\n",
    "\n",
    "err = 0\n",
    "for i in range(0,150,1):\n",
    "    if(species[i] == 0):\n",
    "        if(species[i] != clusters[i]):\n",
    "            err += 1\n",
    "    if(clusters[i] == 0):\n",
    "        if(species[i] != clusters[i]):\n",
    "            err += 1\n",
    "        \n",
    "err"
   ]
  },
  {
   "cell_type": "code",
   "execution_count": 9,
   "id": "fe7fbeb4",
   "metadata": {},
   "outputs": [],
   "source": [
    "def objectiveFunction(centroids,clusters):\n",
    "    val = 0\n",
    "    x = 0\n",
    "    for i in range (0,len(clusters),1):\n",
    "        x = obj_funct_classifier(i,centroids,clusters)\n",
    "        val += x"
   ]
  },
  {
   "cell_type": "code",
   "execution_count": 10,
   "id": "1034b3b0",
   "metadata": {},
   "outputs": [],
   "source": [
    "from collections import defaultdict"
   ]
  },
  {
   "cell_type": "code",
   "execution_count": 15,
   "id": "79e52263",
   "metadata": {},
   "outputs": [
    {
     "data": {
      "text/plain": [
       "defaultdict(int, {})"
      ]
     },
     "execution_count": 15,
     "metadata": {},
     "output_type": "execute_result"
    }
   ],
   "source": [
    "ctroids = defaultdict(int)\n",
    "ctroids"
   ]
  },
  {
   "cell_type": "code",
   "execution_count": null,
   "id": "ad95bfc5",
   "metadata": {},
   "outputs": [],
   "source": []
  },
  {
   "cell_type": "code",
   "execution_count": 17,
   "id": "28a86e62",
   "metadata": {},
   "outputs": [],
   "source": [
    "from collections import defaultdict\n",
    "\n",
    "\n",
    "class KMeans:\n",
    "    \n",
    "    def __init__(self,data,k,max_ite):\n",
    "        self.data=data\n",
    "        self.k=k\n",
    "        self.max_ite=max_ite\n",
    "        \n",
    "    def predict(self):\n",
    "\n",
    "        centroids = defaultdict(int)\n",
    "        \n",
    "        K=self.k\n",
    "        max_iter=self.max_ite\n",
    "        \n",
    "        for i in range(K):\n",
    "            centroids[i] = self.data[i]\n",
    "\n",
    "\n",
    "\n",
    "        r=0\n",
    "\n",
    "\n",
    "        for i in range(max_iter):\n",
    "            r=r+1\n",
    "            classes=defaultdict(list)\n",
    "            \n",
    "            for key in range(K):\n",
    "                classes[key]=[]\n",
    "            for datapoint in self.data:\n",
    "                distance=[]\n",
    "                for j in range(K):\n",
    "\n",
    "                    dis=euclidean_dis(datapoint,centroids[j])\n",
    "\n",
    "                    distance.append(dis)\n",
    "                mindis=min(distance)\n",
    "\n",
    "                index=distance.index(mindis)\n",
    "                classes[index].append(datapoint)\n",
    "                old_centroid=dict(centroids)\n",
    "\n",
    "            for t in range(K):\n",
    "                class_=classes[t]\n",
    "\n",
    "\n",
    "                new_centroid=np.mean(class_,axis=0)\n",
    "                centroids[t]=new_centroid\n",
    "            flg=1\n",
    "            for t in range(K):\n",
    "\n",
    "                a=centroids[t]\n",
    "                b=old_centroid[t]\n",
    "                if np.sum((a - b)/b * 100) > 0.001:\n",
    "                    flg = 0\n",
    "\n",
    "\n",
    "\n",
    "            if flg==1:\n",
    "                break\n",
    "\n",
    "\n",
    "        return classes,centroids"
   ]
  },
  {
   "cell_type": "code",
   "execution_count": 18,
   "id": "713cf108",
   "metadata": {},
   "outputs": [
    {
     "name": "stdout",
     "output_type": "stream",
     "text": [
      "39\n",
      "61\n",
      "50\n",
      "defaultdict(<class 'int'>, {0: array([6.85384615, 3.07692308, 5.71538462, 2.05384615]), 1: array([5.88360656, 2.74098361, 4.38852459, 1.43442623]), 2: array([5.006, 3.428, 1.462, 0.246])})\n"
     ]
    }
   ],
   "source": [
    "kmeans=KMeans(iris.data[:,:4],clusters,10000)\n",
    "\n",
    "classes,centroids=kmeans.predict()\n",
    "\n",
    "\n",
    "for i in range(0,3):\n",
    "    classes[i]=np.array(classes[i]).tolist()\n",
    "    \n",
    "for i in range(0,3):\n",
    "    print(len(classes[i]))\n",
    "print(centroids)"
   ]
  },
  {
   "cell_type": "code",
   "execution_count": 16,
   "id": "e45a5d08",
   "metadata": {},
   "outputs": [],
   "source": [
    "import random"
   ]
  },
  {
   "cell_type": "code",
   "execution_count": 23,
   "id": "70c55f2a",
   "metadata": {},
   "outputs": [
    {
     "data": {
      "text/plain": [
       "[5.8, 6.7, 5.5]"
      ]
     },
     "execution_count": 23,
     "metadata": {},
     "output_type": "execute_result"
    }
   ],
   "source": [
    "s_len = s_len.tolist()\n",
    "random.sample(s_len,k=3)"
   ]
  },
  {
   "cell_type": "code",
   "execution_count": null,
   "id": "8575b2a1",
   "metadata": {},
   "outputs": [],
   "source": []
  }
 ],
 "metadata": {
  "kernelspec": {
   "display_name": "Python 3 (ipykernel)",
   "language": "python",
   "name": "python3"
  },
  "language_info": {
   "codemirror_mode": {
    "name": "ipython",
    "version": 3
   },
   "file_extension": ".py",
   "mimetype": "text/x-python",
   "name": "python",
   "nbconvert_exporter": "python",
   "pygments_lexer": "ipython3",
   "version": "3.9.7"
  }
 },
 "nbformat": 4,
 "nbformat_minor": 5
}
