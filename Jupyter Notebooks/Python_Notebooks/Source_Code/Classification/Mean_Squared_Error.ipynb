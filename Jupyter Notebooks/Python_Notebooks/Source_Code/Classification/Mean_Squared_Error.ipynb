{
 "cells": [
  {
   "cell_type": "code",
   "execution_count": 1,
   "id": "32760a21",
   "metadata": {},
   "outputs": [],
   "source": [
    "#Imports\n",
    "import pandas as pd\n",
    "import numpy as np\n",
    "import plotly.express as px\n",
    "import random\n",
    "import plotly.io as pio\n",
    "import plotly.graph_objects as go\n",
    "import matplotlib.pyplot as plt"
   ]
  },
  {
   "cell_type": "code",
   "execution_count": 2,
   "id": "0a1598e1",
   "metadata": {},
   "outputs": [],
   "source": [
    "#Function that calculates the value of the sigmoid function\n",
    "def sigmoid(z):\n",
    "    return 1.0/(1 + np.exp(-z))"
   ]
  },
  {
   "cell_type": "code",
   "execution_count": 3,
   "id": "e6525267",
   "metadata": {},
   "outputs": [],
   "source": [
    "#Function that predicts the value of the class using a single-layer neural network\n",
    "def predict(X,weights,bias):\n",
    "    # X --> Input vector\n",
    "    \n",
    "    # Calculating the value of y using the inner-product (dot product) of the weights vecotr with the data vector and adding a bias term\n",
    "    y = np.dot(X, weights) + bias\n",
    "    preds = sigmoid(y)\n",
    "    \n",
    "    # Empty List to store predictions.\n",
    "    pred_class = []\n",
    "    for i in range(0,len(preds),1):\n",
    "        # if preds >= 0.5 --> round up to 1\n",
    "        # if preds < 0.5 --> round up to 1\n",
    "        if(preds[i] > 0.5):\n",
    "            pred_class.append(1)\n",
    "        else:\n",
    "            pred_class.append(0)\n",
    "    \n",
    "    #pred_class = [1 if i > 0.5 else 0 for i in preds]\n",
    "    \n",
    "    return np.array(pred_class)"
   ]
  },
  {
   "cell_type": "code",
   "execution_count": 4,
   "id": "36dacbd5",
   "metadata": {},
   "outputs": [],
   "source": [
    "    #Getting the dataframe from the csv\n",
    "    df = pd.read_csv(\"/Users/rohansingh/Documents/CSDS 391/AI_Code/Machine Learning/Classification/irisdata.csv\")\n",
    "    \n",
    "    #Extracting the 2nd and 3rd classes from the data frame\n",
    "    df = df[df[\"species\"] != \"setosa\"]\n",
    "    vals = df.iloc[:,2:4]\n",
    "    target = df.iloc[:,-1]\n",
    "    \n",
    "    vals = vals.to_numpy()\n",
    "    target = target.to_numpy()\n",
    "    \n",
    "    #Changing species from names to binary values \n",
    "    temp = []\n",
    "    for i in range (0,len(target),1):\n",
    "        if(target[i] == \"versicolor\"):\n",
    "            temp.append(0)\n",
    "        else:\n",
    "            temp.append(1)\n",
    "    target = np.array(temp)\n",
    "    \n",
    "    #Weight vector and bias scalars\n",
    "    w = np.array([-0.05,0.51])\n",
    "    b = -0.6\n",
    "    \n",
    "    #Predicting based on input weights and bias\n",
    "    _class = predict(vals,w,b)"
   ]
  },
  {
   "cell_type": "code",
   "execution_count": 5,
   "id": "f88e8120",
   "metadata": {},
   "outputs": [
    {
     "data": {
      "text/plain": [
       "array([0, 0, 0, 0, 0, 0, 0, 0, 0, 0, 0, 0, 0, 0, 0, 0, 0, 0, 0, 0, 1, 0,\n",
       "       0, 0, 0, 0, 0, 1, 0, 0, 0, 0, 0, 0, 0, 0, 0, 0, 0, 0, 0, 0, 0, 0,\n",
       "       0, 0, 0, 0, 0, 0, 1, 1, 1, 1, 1, 1, 1, 1, 1, 1, 1, 1, 1, 1, 1, 1,\n",
       "       1, 1, 1, 0, 1, 1, 1, 1, 1, 1, 1, 1, 1, 0, 1, 1, 1, 0, 0, 1, 1, 1,\n",
       "       1, 1, 1, 1, 1, 1, 1, 1, 1, 1, 1, 1])"
      ]
     },
     "execution_count": 5,
     "metadata": {},
     "output_type": "execute_result"
    }
   ],
   "source": [
    "_class"
   ]
  },
  {
   "cell_type": "code",
   "execution_count": 6,
   "id": "6e8fac25",
   "metadata": {},
   "outputs": [
    {
     "data": {
      "text/plain": [
       "array([0, 0, 0, 0, 0, 0, 0, 0, 0, 0, 0, 0, 0, 0, 0, 0, 0, 0, 0, 0, 0, 0,\n",
       "       0, 0, 0, 0, 0, 0, 0, 0, 0, 0, 0, 0, 0, 0, 0, 0, 0, 0, 0, 0, 0, 0,\n",
       "       0, 0, 0, 0, 0, 0, 1, 1, 1, 1, 1, 1, 1, 1, 1, 1, 1, 1, 1, 1, 1, 1,\n",
       "       1, 1, 1, 1, 1, 1, 1, 1, 1, 1, 1, 1, 1, 1, 1, 1, 1, 1, 1, 1, 1, 1,\n",
       "       1, 1, 1, 1, 1, 1, 1, 1, 1, 1, 1, 1])"
      ]
     },
     "execution_count": 6,
     "metadata": {},
     "output_type": "execute_result"
    }
   ],
   "source": [
    "target"
   ]
  },
  {
   "cell_type": "code",
   "execution_count": 7,
   "id": "6091d963",
   "metadata": {},
   "outputs": [],
   "source": [
    "#Function to calculate the mean squareed error\n",
    "def calculate_MSE(data,weights,bias,target):\n",
    "    \n",
    "    #Predicting using the neural network predict function\n",
    "    y = predict(data,weights,bias)\n",
    "    mse = 0\n",
    "    \n",
    "    #Iterating through all of the data points\n",
    "    for i in range(0,len(y),1):\n",
    "        #Adding the sum of the differences\n",
    "        mse += ((y[i] - target[i])**2)\n",
    "    \n",
    "    #Dividing the sum by 2\n",
    "    mse /= 2\n",
    "    \n",
    "    return mse\n",
    "    "
   ]
  },
  {
   "cell_type": "code",
   "execution_count": 9,
   "id": "eb20f00a",
   "metadata": {},
   "outputs": [
    {
     "data": {
      "text/plain": [
       "3.0"
      ]
     },
     "execution_count": 9,
     "metadata": {},
     "output_type": "execute_result"
    }
   ],
   "source": [
    "temp = calculate_MSE(vals,w,b,target)\n",
    "temp"
   ]
  },
  {
   "cell_type": "code",
   "execution_count": null,
   "id": "5f6a6155",
   "metadata": {},
   "outputs": [],
   "source": []
  }
 ],
 "metadata": {
  "kernelspec": {
   "display_name": "Python 3 (ipykernel)",
   "language": "python",
   "name": "python3"
  },
  "language_info": {
   "codemirror_mode": {
    "name": "ipython",
    "version": 3
   },
   "file_extension": ".py",
   "mimetype": "text/x-python",
   "name": "python",
   "nbconvert_exporter": "python",
   "pygments_lexer": "ipython3",
   "version": "3.9.7"
  }
 },
 "nbformat": 4,
 "nbformat_minor": 5
}
